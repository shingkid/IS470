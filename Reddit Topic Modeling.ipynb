{
 "cells": [
  {
   "cell_type": "code",
   "execution_count": 1,
   "metadata": {},
   "outputs": [],
   "source": [
    "import numpy as np\n",
    "import pandas as pd\n",
    "from pprint import pprint\n",
    "\n",
    "# Gensim\n",
    "import gensim\n",
    "from gensim import corpora, models\n",
    "from gensim.models.wrappers import LdaMallet\n",
    "\n",
    "# Plotting tools\n",
    "import pyLDAvis\n",
    "import pyLDAvis.gensim  # don't skip this\n",
    "import matplotlib.pyplot as plt\n",
    "%matplotlib inline\n",
    "\n",
    "# Enable logging for gensim - optional\n",
    "import logging\n",
    "logging.basicConfig(format='%(asctime)s : %(levelname)s : %(message)s', level=logging.ERROR)\n",
    "\n",
    "import warnings\n",
    "warnings.filterwarnings(\"ignore\",category=DeprecationWarning)"
   ]
  },
  {
   "cell_type": "code",
   "execution_count": 2,
   "metadata": {},
   "outputs": [
    {
     "data": {
      "text/plain": [
       "array([list(['update', 'depressed', 'asshole', 'month', 'ago', 'post', 'situation', 'depress', 'future', 'link', 'url', 'well', 'finally', 'leave', 'house', 'today', 'first', 'time', 'month', 'amazon', 'grocery', 'seek', 'help', 'think', 'would', 'post', 'update', 'care', 'think', 'doctor', 'do', 'not', 'think', 'hit', 'threshold', 'consider', 'depressed', 'need', 'help', 'emotional', 'control', 'therapy', 'could', 'good', 'open', 'option', 'go', 'take', 'awhile', 'appointment', 'slot', 'let', 'see', 'money', 'can', 'not', 'complain', 'wait', 'subsidy', 'slot', 'nonetheless', 'prescribe', 'fluoxetine', 'month', 'help', 'mood', 'honest', 'still', 'adverse', 'get', 'help', 'social_worker', 'horrible', 'experience', 'ppl', 'last', 'post', 'may', 'may', 'fault', 'take', 'certain', 'advice', 'tell', 'official', 'channel', 'come', 'back', 'run', 'money', 'feel', 'soul', 'crush', 'feel', 'go', 'casino', 'gamble', 'saving', 'away', 'know', 'may', 'become', 'millionaire', 'overnight', 'nonetheless', 'make', 'personal', 'note', 'ignore', 'social_worker', 'henceforth', 'talk', 'fulfill', 'self', 'gratification', 'good', 'deed', 'day', 'nice', 'people', 'disappear', 'road', 'do', 'not', 'ask', 'do', 'not', 'go', 'cement', 'opinion', 'help', 'talk', 'truth', 'tell', 'actually', 'try', 'kill', 'may', 'receive', 'headache', 'news', 'disappoint', 'anymore', 'everything', 'stay', 'awake', 'entire', 'night', 'wait', 'slit', 'wrist', 'next', 'morning', 'bed', 'overdose', 'aspirin', 'blood', 'thinning', 'plan', 'ensure', 'dead', 'anyone', 'find', 'sudden', 'despair', 'real', 'spend', 'hour', 'cry', 'alone', 'toilet', 'plan', 'do', 'not', 'execute', 'could', 'not', 'order', 'aspirin', 'could', 'not', 'replacement', 'blood', 'thin', 'interest', 'attempt', 'call', 'ambulance', 'want', 'die', 'do', 'not', 'want', 'help', 'help', 'superficial', 'reality', 'even', 'try', 'kill', 'burden', 'eventually', 'set', 'decide', 'seek', 'medical', 'help', 'suppose', 'go', 'die', 'may', 'well', 'figure', 'suffer', 'explore', 'option', 'die', 'least', 'tell', 'do', 'not', 'help', 'anyway', 'update', 'do', 'not', 'really', 'anything', 'add', 'have', 'not', 'real', 'positive', 'update', 'bury', 'game', 'distraction', 'escape', 'least', 'game', 'effort', 'opportunity', 'real', 'life', 'paper', 'degree', 'opportunity', 'well', 'fair', 'opportunity', 'last', 'job', 'burn', 'bridge', 'resign', 'rage', 'well', 'go', 'matter', 'go', 'die', 'anyway', 's', 'maybe', 'update', 'maybe', 'will', 'not', 'do', 'not', 'really', 'what', 's', 'point', 'assume', 'reader', 'would', 'feel', 'well', 'good', 'everyone', 'thank', 'supportive', 'previously', 'sorry', 'can', 'not', 'help', 'do', 'not', 'do', 'not', 'still', 'money', 'living', 'expense', 'year', 'do', 'not', 'worry', 'budget', 'strict', 'feel', 'little', 'sad', 'grocery', 'shopping', 'feel', 'kid', 'want', 'cotton', 'candy', 'park', 'tell', 'money', 's', 'money', 'save', 'degree', 'drop', 'halfway', 'dad', 'get', 'stroke', 'advise', 'job', 'save', 'money', 'degree', 'good', 'advise', 'totally', 'appreciate', 'feel', 'true', 'look', 'forward', 'scrap', 'money', 'degree', 'study', 'loan', 'genius', 'could', 'totally', 'use', 'debt', 'right']),\n",
       "       list(['sex', 'addiction', 'really', 'need', 'advise', 'do', 'not', 'else', 'seek', 'help', 'be', 'alone', 'family', 'because', 'want', 'stigma', 'addiction', 'porn', 'masturbation', 'use', 'come', 'fifth', 'year', 'try', 'stop', 'join', 'nofap', 'keep', 'fail', 'time', 'relapse', 'good', 'control', 'withdrawal', 'effect', 'make', 'anxiety', 'bad', 'feel', 'depressed', 'time', 'mostly', 'feel', 'brain', 'fog', 'forget', 'thing', 'lose', 'focus', 'feel', 'confused', 'lack', 'sleep', 'do', 'not', 'wrong', 'bear', 'pain', 'bmt', 'unit', 'struggle', 'hardly', 'friend', 'feel', 'lonely', 'want', 'seek', 'help', 'want', 'personal', 'do', 'not', 'want', 'superior', 'family', 'advise', 'sorry', 'bad', 'engli']),\n",
       "       list(['need', 'speak', 'someone', 'throwaway_account', 'have', 'feel', 'depress', 'last', 'year', 'come', 'go', 'come', 'stay', 'time', 'have', 'not', 'see', 'psychiatrist', 'yet', 'mostly', 'feel', 'do', 'not', 'think', 'anymore', 'get', 'bad', 'last', 'day', 'much', 'be', 'lie', 'people', 'love', 'personal', 'intimate', 'detail', 'day', 'day', 'life', 'need', 'help', 'be', 'student', 'who', 's', 'pay', 'college', 'have', 'saving', 'be', 'afraid', 'will', 'not', 'last', 'will', 'not', 'able', 'afford', 'cost', 'treatment', 'anyone', 'form', 'mental_illness', 'could', 'shed', 'light', 'treatment', 'plan', 'cost', 'really', 'feel', 'alo']),\n",
       "       ...,\n",
       "       list(['fair', 'enough', 'head', 'even', 'lithium', 'blood', 'test', 'safe', 'zone', 'kidney', 'suffer', 'long_term', 'use']),\n",
       "       list(['almost', 'sound', 'pun', 'already', 'late', 'ward', 'left', 'month', 'ill', 'keep', 'go', 'offer', 'pe', 'earlier', 'first', 'year', 'do', 'not', 'take']),\n",
       "       list(['request', 'article', 'remove', 'facebook', 'post', 'share', 'page', 'truncate', 'show', 'full', 'background', 'comment', 'upsetting', 'hint', 'can', 'not', 'even', 'enter', 'university', 'form', 'work', 'bipolar', 'apparently', 'gain', 'employment', 'government', 'sector', 'private', 'company', 'apparently', 'do', 'not', 'care', 'much', 'top', 'comment', 'say', 'reservist', 'may', 'better', 'may', 'compensate', 'condition', 'say', 'prejudice', 'may', 'still', 'present', 'ill', 'well', 'stint', 'ntu', 'hopefully', 'upper', 'first', 'see', 'capable', 'enough', 'sigh'])],\n",
       "      dtype=object)"
      ]
     },
     "execution_count": 2,
     "metadata": {},
     "output_type": "execute_result"
    }
   ],
   "source": [
    "with open('resources/lemmatized_data.npy', 'rb') as infile:\n",
    "    data_lemmatized = np.load(infile)\n",
    "    \n",
    "data_lemmatized"
   ]
  },
  {
   "cell_type": "code",
   "execution_count": 3,
   "metadata": {},
   "outputs": [],
   "source": [
    "# Create Dictionary\n",
    "id2word = corpora.Dictionary(data_lemmatized)"
   ]
  },
  {
   "cell_type": "code",
   "execution_count": 4,
   "metadata": {},
   "outputs": [
    {
     "name": "stdout",
     "output_type": "stream",
     "text": [
      "[[('actually', 1), ('add', 1), ('adverse', 1), ('advice', 1), ('advise', 2), ('ago', 1), ('alone', 1), ('amazon', 1), ('ambulance', 1), ('anymore', 1), ('anyone', 1), ('anything', 1), ('anyway', 2), ('appointment', 1), ('appreciate', 1), ('ask', 1), ('aspirin', 2), ('asshole', 1), ('assume', 1), ('attempt', 1), ('awake', 1), ('away', 1), ('awhile', 1), ('back', 1), ('become', 1), ('bed', 1), ('blood', 2), ('bridge', 1), ('budget', 1), ('burden', 1), ('burn', 1), ('bury', 1), ('call', 1), ('can', 2), ('candy', 1), ('care', 1), ('casino', 1), ('cement', 1), ('certain', 1), ('channel', 1), ('come', 1), ('complain', 1), ('consider', 1), ('control', 1), ('cotton', 1), ('could', 4), ('crush', 1), ('cry', 1), ('dad', 1), ('day', 1), ('dead', 1), ('debt', 1), ('decide', 1), ('deed', 1), ('degree', 4), ('depress', 1), ('depressed', 2), ('despair', 1), ('die', 4), ('disappear', 1), ('disappoint', 1), ('distraction', 1), ('do', 11), ('doctor', 1), ('drop', 1), ('effort', 1), ('emotional', 1), ('ensure', 1), ('entire', 1), ('escape', 1), ('even', 1), ('eventually', 1), ('everyone', 1), ('everything', 1), ('execute', 1), ('expense', 1), ('experience', 1), ('explore', 1), ('fair', 1), ('fault', 1), ('feel', 6), ('figure', 1), ('finally', 1), ('find', 1), ('first', 1), ('fluoxetine', 1), ('forward', 1), ('fulfill', 1), ('future', 1), ('gamble', 1), ('game', 2), ('genius', 1), ('get', 2), ('go', 6), ('good', 4), ('gratification', 1), ('grocery', 2), ('halfway', 1), ('have', 1), ('headache', 1), ('help', 10), ('henceforth', 1), ('hit', 1), ('honest', 1), ('horrible', 1), ('hour', 1), ('house', 1), ('ignore', 1), ('interest', 1), ('job', 2), ('kid', 1), ('kill', 2), ('know', 1), ('last', 2), ('least', 2), ('leave', 1), ('let', 1), ('life', 1), ('link', 1), ('little', 1), ('living', 1), ('loan', 1), ('look', 1), ('make', 1), ('matter', 1), ('may', 5), ('maybe', 2), ('medical', 1), ('millionaire', 1), ('money', 7), ('month', 3), ('mood', 1), ('morning', 1), ('need', 1), ('news', 1), ('next', 1), ('nice', 1), ('night', 1), ('nonetheless', 2), ('not', 17), ('note', 1), ('official', 1), ('open', 1), ('opinion', 1), ('opportunity', 3), ('option', 2), ('order', 1), ('overdose', 1), ('overnight', 1), ('paper', 1), ('park', 1), ('people', 1), ('personal', 1), ('plan', 2), ('point', 1), ('positive', 1), ('post', 3), ('ppl', 1), ('prescribe', 1), ('previously', 1), ('rage', 1), ('reader', 1), ('real', 3), ('reality', 1), ('really', 2), ('receive', 1), ('replacement', 1), ('resign', 1), ('right', 1), ('road', 1), ('run', 1), ('s', 3), ('sad', 1), ('save', 2), ('saving', 1), ('scrap', 1), ('see', 1), ('seek', 2), ('self', 1), ('set', 1), ('shopping', 1), ('situation', 1), ('slit', 1), ('slot', 2), ('social_worker', 2), ('sorry', 1), ('soul', 1), ('spend', 1), ('stay', 1), ('still', 2), ('strict', 1), ('stroke', 1), ('study', 1), ('subsidy', 1), ('sudden', 1), ('suffer', 1), ('superficial', 1), ('supportive', 1), ('suppose', 1), ('take', 2), ('talk', 2), ('tell', 4), ('thank', 1), ('therapy', 1), ('thin', 1), ('think', 3), ('thinning', 1), ('threshold', 1), ('time', 1), ('today', 1), ('toilet', 1), ('totally', 2), ('true', 1), ('truth', 1), ('try', 2), ('update', 5), ('url', 1), ('use', 1), ('wait', 2), ('want', 3), ('well', 5), ('what', 1), ('will', 1), ('worry', 1), ('would', 2), ('wrist', 1), ('year', 1)]]\n"
     ]
    }
   ],
   "source": [
    "# Create Corpus\n",
    "texts = list(data_lemmatized)\n",
    "\n",
    "# Term Document Frequency\n",
    "corpus = [id2word.doc2bow(text) for text in texts]\n",
    "\n",
    "# Human readable format of corpus (term-frequency)\n",
    "print([[(id2word[id], freq) for id, freq in cp] for cp in corpus[:1]])"
   ]
  },
  {
   "cell_type": "code",
   "execution_count": 5,
   "metadata": {},
   "outputs": [],
   "source": [
    "mallet_path = './mallet-2.0.8/bin/mallet' # update this path\n",
    "ldamallet = LdaMallet(mallet_path, corpus=corpus, num_topics=20, id2word=id2word)"
   ]
  },
  {
   "cell_type": "code",
   "execution_count": 6,
   "metadata": {},
   "outputs": [
    {
     "name": "stdout",
     "output_type": "stream",
     "text": [
      "[(8,\n",
      "  [('country', 0.03527968094897229),\n",
      "   ('force', 0.02883730442785561),\n",
      "   ('army', 0.02311074752019634),\n",
      "   ('serve', 0.021985888127620413),\n",
      "   ('ns', 0.019122609673790775),\n",
      "   ('man', 0.01595255138562225),\n",
      "   ('number', 0.013907352490029655),\n",
      "   ('benefit', 0.012066673483996319),\n",
      "   ('military', 0.011759893649657429),\n",
      "   ('power', 0.01145311381531854)]),\n",
      " (16,\n",
      "  [('work', 0.08478038815117467),\n",
      "   ('job', 0.05775838053672579),\n",
      "   ('year', 0.05227969170767945),\n",
      "   ('study', 0.030736372922276906),\n",
      "   ('level', 0.021543318785402544),\n",
      "   ('degree', 0.021357600520011143),\n",
      "   ('poly', 0.014393165567833597),\n",
      "   ('part', 0.014021729037050793),\n",
      "   ('future', 0.01355743337357229),\n",
      "   ('business', 0.012721701179310985)]),\n",
      " (6,\n",
      "  [('family', 0.03675180347046208),\n",
      "   ('home', 0.023006434002729576),\n",
      "   ('move', 0.02154416065509846),\n",
      "   ('stay', 0.02047182686683564),\n",
      "   ('house', 0.019302008188730745),\n",
      "   ('leave', 0.019204523298888672),\n",
      "   ('room', 0.017742249951257553),\n",
      "   ('mother', 0.016474946383310585),\n",
      "   ('dad', 0.01608500682394229),\n",
      "   ('stuff', 0.0141353090271008)]),\n",
      " (13,\n",
      "  [('feel', 0.1444400474871389),\n",
      "   ('thing', 0.06470122675108825),\n",
      "   ('understand', 0.035417491096161456),\n",
      "   ('bad', 0.03521962801741195),\n",
      "   ('make', 0.027997625643055007),\n",
      "   ('lot', 0.020874554808072814),\n",
      "   ('honestly', 0.01662049861495845),\n",
      "   ('share', 0.014345073209339138),\n",
      "   ('feeling', 0.014345073209339138),\n",
      "   ('experience', 0.014246141669964385)]),\n",
      " (14,\n",
      "  [('good', 0.11656767076792533),\n",
      "   ('give', 0.07350445481544336),\n",
      "   ('talk', 0.05504879083580823),\n",
      "   ('hope', 0.044654221467967756),\n",
      "   ('people', 0.044336020364870596),\n",
      "   ('advice', 0.030547305897327112),\n",
      "   ('situation', 0.02821383114128129),\n",
      "   ('problem', 0.025137887144675436),\n",
      "   ('find', 0.022168010182435298),\n",
      "   ('op', 0.018773865082732287)]),\n",
      " (15,\n",
      "  [('post', 0.05083996463306808),\n",
      "   ('read', 0.04509283819628647),\n",
      "   ('url', 0.033819628647214856),\n",
      "   ('comment', 0.030614500442086648),\n",
      "   ('question', 0.022435897435897436),\n",
      "   ('write', 0.022104332449160036),\n",
      "   ('ill', 0.020114942528735632),\n",
      "   ('word', 0.01768346595932803),\n",
      "   ('edit', 0.016136162687886826),\n",
      "   ('thread', 0.015804597701149427)]),\n",
      " (2,\n",
      "  [('day', 0.05362362665053926),\n",
      "   ('back', 0.034573127708900316),\n",
      "   ('month', 0.026106239290394115),\n",
      "   ('remember', 0.01915129523233545),\n",
      "   ('hour', 0.016832980546315896),\n",
      "   ('sleep', 0.01582501763935087),\n",
      "   ('run', 0.015623425057957867),\n",
      "   ('week', 0.013909888116117326),\n",
      "   ('body', 0.013506702953331317),\n",
      "   ('pass', 0.013305110371938312)]),\n",
      " (9,\n",
      "  [('people', 0.10406342913776016),\n",
      "   ('make', 0.05847373637264618),\n",
      "   ('thing', 0.0370003303600925),\n",
      "   ('stop', 0.03391696949675146),\n",
      "   ('care', 0.030723488602576808),\n",
      "   ('matter', 0.02499724699922916),\n",
      "   ('wrong', 0.02400616672172668),\n",
      "   ('kind', 0.022794846382556987),\n",
      "   ('sound', 0.022354366259222554),\n",
      "   ('bad', 0.01949124545754873)]),\n",
      " (18,\n",
      "  [('law', 0.030959752321981424),\n",
      "   ('gay', 0.0228328173374613),\n",
      "   ('state', 0.0144156346749226),\n",
      "   ('sex', 0.014125386996904025),\n",
      "   ('argument', 0.01393188854489164),\n",
      "   ('religious', 0.012577399380804953),\n",
      "   ('religion', 0.012577399380804953),\n",
      "   ('choice', 0.012577399380804953),\n",
      "   ('society', 0.011513157894736841),\n",
      "   ('accept', 0.011222910216718266)]),\n",
      " (3,\n",
      "  [('happen', 0.048638350330606296),\n",
      "   ('fuck', 0.04101759497926706),\n",
      "   ('make', 0.037991706825058834),\n",
      "   ('people', 0.03328476969629048),\n",
      "   ('guy', 0.03294855990137846),\n",
      "   ('shit', 0.03261235010646644),\n",
      "   ('place', 0.02566401434495125),\n",
      "   ('change', 0.018267398856886698),\n",
      "   ('point', 0.014120811386305054),\n",
      "   ('hear', 0.014008741454667713)])]\n"
     ]
    }
   ],
   "source": [
    "# Show Topics\n",
    "pprint(ldamallet.show_topics(formatted=False))"
   ]
  },
  {
   "cell_type": "code",
   "execution_count": 7,
   "metadata": {},
   "outputs": [
    {
     "name": "stdout",
     "output_type": "stream",
     "text": [
      "\n",
      "Coherence Score:  0.44127383731484954\n"
     ]
    }
   ],
   "source": [
    "# Compute Coherence Score\n",
    "coherence_model_ldamallet = models.CoherenceModel(model=ldamallet, texts=data_lemmatized, dictionary=id2word, coherence='c_v')\n",
    "coherence_ldamallet = coherence_model_ldamallet.get_coherence()\n",
    "print('\\nCoherence Score: ', coherence_ldamallet)"
   ]
  },
  {
   "cell_type": "code",
   "execution_count": 8,
   "metadata": {},
   "outputs": [],
   "source": [
    "def compute_coherence_values(dictionary, corpus, texts, limit, start=2, step=3):\n",
    "    \"\"\"\n",
    "    Compute c_v coherence for various number of topics\n",
    "\n",
    "    Parameters:\n",
    "    ----------\n",
    "    dictionary : Gensim dictionary\n",
    "    corpus : Gensim corpus\n",
    "    texts : List of input texts\n",
    "    limit : Max num of topics\n",
    "\n",
    "    Returns:\n",
    "    -------\n",
    "    model_list : List of LDA topic models\n",
    "    coherence_values : Coherence values corresponding to the LDA model with respective number of topics\n",
    "    \"\"\"\n",
    "    coherence_values = []\n",
    "    model_list = []\n",
    "    for num_topics in range(start, limit, step):\n",
    "        model = LdaMallet(mallet_path, corpus=corpus, num_topics=num_topics, id2word=id2word)\n",
    "        model_list.append(model)\n",
    "        coherencemodel = models.CoherenceModel(model=model, texts=texts, dictionary=dictionary, coherence='c_v')\n",
    "        coherence_values.append(coherencemodel.get_coherence())\n",
    "\n",
    "    return model_list, coherence_values"
   ]
  },
  {
   "cell_type": "code",
   "execution_count": 9,
   "metadata": {},
   "outputs": [],
   "source": [
    "model_list, coherence_values = compute_coherence_values(dictionary=id2word, corpus=corpus, texts=data_lemmatized, start=2, limit=40, step=6)"
   ]
  },
  {
   "cell_type": "code",
   "execution_count": 10,
   "metadata": {},
   "outputs": [
    {
     "data": {
      "image/png": "[encoded data removed]",
      "text/plain": [
       "<Figure size 432x288 with 1 Axes>"
      ]
     },
     "metadata": {
      "needs_background": "light"
     },
     "output_type": "display_data"
    }
   ],
   "source": [
    "# Show graph\n",
    "limit=40; start=2; step=6;\n",
    "x = range(start, limit, step)\n",
    "plt.plot(x, coherence_values)\n",
    "plt.xlabel(\"Num Topics\")\n",
    "plt.ylabel(\"Coherence score\")\n",
    "plt.legend((\"coherence_values\"), loc='best')\n",
    "plt.show()"
   ]
  },
  {
   "cell_type": "code",
   "execution_count": 11,
   "metadata": {},
   "outputs": [
    {
     "name": "stdout",
     "output_type": "stream",
     "text": [
      "Num Topics = 2  has Coherence Value of 0.3455\n",
      "Num Topics = 8  has Coherence Value of 0.4175\n",
      "Num Topics = 14  has Coherence Value of 0.4339\n",
      "Num Topics = 20  has Coherence Value of 0.425\n",
      "Num Topics = 26  has Coherence Value of 0.4064\n",
      "Num Topics = 32  has Coherence Value of 0.421\n",
      "Num Topics = 38  has Coherence Value of 0.4212\n"
     ]
    }
   ],
   "source": [
    "# Print the coherence scores\n",
    "for m, cv in zip(x, coherence_values):\n",
    "    print(\"Num Topics =\", m, \" has Coherence Value of\", round(cv, 4))"
   ]
  },
  {
   "cell_type": "code",
   "execution_count": 12,
   "metadata": {},
   "outputs": [
    {
     "name": "stdout",
     "output_type": "stream",
     "text": [
      "[(0,\n",
      "  '0.036*\"pay\" + 0.027*\"money\" + 0.026*\"year\" + 0.021*\"high\" + 0.014*\"make\" + '\n",
      "  '0.012*\"government\" + 0.012*\"cost\" + 0.011*\"low\" + 0.008*\"singaporean\" + '\n",
      "  '0.008*\"point\"'),\n",
      " (1,\n",
      "  '0.048*\"suicide\" + 0.036*\"case\" + 0.018*\"police\" + 0.018*\"man\" + '\n",
      "  '0.016*\"attempt\" + 0.013*\"url\" + 0.013*\"report\" + 0.013*\"person\" + '\n",
      "  '0.012*\"young\" + 0.011*\"woman\"'),\n",
      " (2,\n",
      "  '0.020*\"law\" + 0.018*\"society\" + 0.017*\"gay\" + 0.016*\"change\" + '\n",
      "  '0.014*\"child\" + 0.013*\"agree\" + 0.011*\"accept\" + 0.011*\"argument\" + '\n",
      "  '0.011*\"state\" + 0.011*\"opinion\"'),\n",
      " (3,\n",
      "  '0.033*\"depression\" + 0.019*\"doctor\" + 0.015*\"treatment\" + 0.015*\"imh\" + '\n",
      "  '0.013*\"suffer\" + 0.013*\"month\" + 0.013*\"condition\" + 0.013*\"give\" + '\n",
      "  '0.013*\"medical\" + 0.013*\"care\"'),\n",
      " (4,\n",
      "  '0.108*\"life\" + 0.052*\"time\" + 0.047*\"good\" + 0.046*\"thing\" + 0.027*\"make\" + '\n",
      "  '0.027*\"day\" + 0.025*\"find\" + 0.025*\"live\" + 0.022*\"end\" + 0.019*\"hard\"'),\n",
      " (5,\n",
      "  '0.059*\"school\" + 0.024*\"teacher\" + 0.021*\"student\" + 0.018*\"pretty\" + '\n",
      "  '0.016*\"friend\" + 0.015*\"class\" + 0.015*\"back\" + 0.015*\"kid\" + 0.013*\"time\" '\n",
      "  '+ 0.013*\"guess\"'),\n",
      " (6,\n",
      "  '0.024*\"time\" + 0.019*\"leave\" + 0.019*\"fuck\" + 0.018*\"stay\" + 0.018*\"start\" '\n",
      "  '+ 0.018*\"home\" + 0.018*\"move\" + 0.015*\"day\" + 0.014*\"shit\" + 0.014*\"book\"'),\n",
      " (7,\n",
      "  '0.034*\"post\" + 0.033*\"issue\" + 0.021*\"seek\" + 0.020*\"comment\" + '\n",
      "  '0.020*\"hope\" + 0.019*\"op\" + 0.019*\"talk\" + 0.019*\"advice\" + 0.018*\"problem\" '\n",
      "  '+ 0.017*\"mental_health\"'),\n",
      " (8,\n",
      "  '0.102*\"feel\" + 0.061*\"friend\" + 0.045*\"good\" + 0.039*\"thing\" + 0.036*\"make\" '\n",
      "  '+ 0.032*\"talk\" + 0.031*\"find\" + 0.025*\"bad\" + 0.025*\"understand\" + '\n",
      "  '0.015*\"person\"'),\n",
      " (9,\n",
      "  '0.048*\"parent\" + 0.041*\"family\" + 0.033*\"give\" + 0.028*\"situation\" + '\n",
      "  '0.023*\"stop\" + 0.022*\"care\" + 0.018*\"bad\" + 0.018*\"happen\" + '\n",
      "  '0.016*\"relationship\" + 0.014*\"hear\"'),\n",
      " (10,\n",
      "  '0.087*\"work\" + 0.043*\"job\" + 0.042*\"year\" + 0.027*\"time\" + 0.027*\"study\" + '\n",
      "  '0.020*\"part\" + 0.018*\"level\" + 0.016*\"degree\" + 0.012*\"future\" + '\n",
      "  '0.012*\"start\"'),\n",
      " (11,\n",
      "  '0.022*\"read\" + 0.016*\"call\" + 0.016*\"guy\" + 0.013*\"turn\" + 0.013*\"send\" + '\n",
      "  '0.011*\"watch\" + 0.010*\"hour\" + 0.010*\"body\" + 0.010*\"jump\" + 0.009*\"fall\"'),\n",
      " (12,\n",
      "  '0.186*\"people\" + 0.030*\"love\" + 0.026*\"make\" + 0.022*\"give\" + 0.020*\"kind\" '\n",
      "  '+ 0.017*\"world\" + 0.015*\"matter\" + 0.013*\"real\" + 0.013*\"point\" + '\n",
      "  '0.013*\"person\"'),\n",
      " (13,\n",
      "  '0.027*\"country\" + 0.022*\"force\" + 0.018*\"army\" + 0.017*\"serve\" + 0.015*\"ns\" '\n",
      "  '+ 0.010*\"man\" + 0.009*\"make\" + 0.009*\"system\" + 0.009*\"train\" + '\n",
      "  '0.009*\"military\"')]\n"
     ]
    }
   ],
   "source": [
    "# Select the model and print the topics\n",
    "optimal_model = model_list[2]\n",
    "model_topics = optimal_model.show_topics(formatted=False)\n",
    "pprint(optimal_model.print_topics(num_words=10))"
   ]
  },
  {
   "cell_type": "code",
   "execution_count": 14,
   "metadata": {},
   "outputs": [
    {
     "ename": "NameError",
     "evalue": "name 'data' is not defined",
     "output_type": "error",
     "traceback": [
      "\u001b[0;31m---------------------------------------------------------------------------\u001b[0m",
      "\u001b[0;31mNameError\u001b[0m                                 Traceback (most recent call last)",
      "\u001b[0;32m<ipython-input-14-0c8df9ffc244>\u001b[0m in \u001b[0;36m<module>\u001b[0;34m()\u001b[0m\n\u001b[0;32m----> 1\u001b[0;31m \u001b[0;32mdef\u001b[0m \u001b[0mformat_topics_sentences\u001b[0m\u001b[0;34m(\u001b[0m\u001b[0mldamodel\u001b[0m\u001b[0;34m,\u001b[0m \u001b[0mcorpus\u001b[0m\u001b[0;34m=\u001b[0m\u001b[0mcorpus\u001b[0m\u001b[0;34m,\u001b[0m \u001b[0mtexts\u001b[0m\u001b[0;34m=\u001b[0m\u001b[0mdata\u001b[0m\u001b[0;34m)\u001b[0m\u001b[0;34m:\u001b[0m\u001b[0;34m\u001b[0m\u001b[0m\n\u001b[0m\u001b[1;32m      2\u001b[0m     \u001b[0;31m# Init output\u001b[0m\u001b[0;34m\u001b[0m\u001b[0;34m\u001b[0m\u001b[0m\n\u001b[1;32m      3\u001b[0m     \u001b[0msent_topics_df\u001b[0m \u001b[0;34m=\u001b[0m \u001b[0mpd\u001b[0m\u001b[0;34m.\u001b[0m\u001b[0mDataFrame\u001b[0m\u001b[0;34m(\u001b[0m\u001b[0;34m)\u001b[0m\u001b[0;34m\u001b[0m\u001b[0m\n\u001b[1;32m      4\u001b[0m \u001b[0;34m\u001b[0m\u001b[0m\n\u001b[1;32m      5\u001b[0m     \u001b[0;31m# Get main topic in each document\u001b[0m\u001b[0;34m\u001b[0m\u001b[0;34m\u001b[0m\u001b[0m\n",
      "\u001b[0;31mNameError\u001b[0m: name 'data' is not defined"
     ]
    }
   ],
   "source": [
    "def format_topics_sentences(ldamodel, corpus=corpus, texts=data):\n",
    "    # Init output\n",
    "    sent_topics_df = pd.DataFrame()\n",
    "\n",
    "    # Get main topic in each document\n",
    "    for i, row in enumerate(ldamodel[corpus]):\n",
    "        row = sorted(row, key=lambda x: (x[1]), reverse=True)\n",
    "        # Get the Dominant topic, Perc Contribution and Keywords for each document\n",
    "        for j, (topic_num, prop_topic) in enumerate(row):\n",
    "            if j == 0:  # => dominant topic\n",
    "                wp = ldamodel.show_topic(topic_num)\n",
    "                topic_keywords = \", \".join([word for word, prop in wp])\n",
    "                sent_topics_df = sent_topics_df.append(pd.Series([int(topic_num), round(prop_topic,4), topic_keywords]), ignore_index=True)\n",
    "            else:\n",
    "                break\n",
    "    sent_topics_df.columns = ['Dominant_Topic', 'Perc_Contribution', 'Topic_Keywords']\n",
    "\n",
    "    # Add original text to the end of the output\n",
    "    contents = pd.Series(texts)\n",
    "    sent_topics_df = pd.concat([sent_topics_df, contents], axis=1)\n",
    "    return(sent_topics_df)"
   ]
  },
  {
   "cell_type": "code",
   "execution_count": 15,
   "metadata": {},
   "outputs": [
    {
     "ename": "FileNotFoundError",
     "evalue": "[Errno 2] No such file or directory: 'resources/content.npy'",
     "output_type": "error",
     "traceback": [
      "\u001b[0;31m---------------------------------------------------------------------------\u001b[0m",
      "\u001b[0;31mFileNotFoundError\u001b[0m                         Traceback (most recent call last)",
      "\u001b[0;32m<ipython-input-15-f527e91f4181>\u001b[0m in \u001b[0;36m<module>\u001b[0;34m()\u001b[0m\n\u001b[0;32m----> 1\u001b[0;31m \u001b[0;32mwith\u001b[0m \u001b[0mopen\u001b[0m\u001b[0;34m(\u001b[0m\u001b[0;34m'resources/content.npy'\u001b[0m\u001b[0;34m,\u001b[0m \u001b[0;34m'rb'\u001b[0m\u001b[0;34m)\u001b[0m \u001b[0;32mas\u001b[0m \u001b[0minfile\u001b[0m\u001b[0;34m:\u001b[0m\u001b[0;34m\u001b[0m\u001b[0m\n\u001b[0m\u001b[1;32m      2\u001b[0m     \u001b[0mdata\u001b[0m \u001b[0;34m=\u001b[0m \u001b[0mnp\u001b[0m\u001b[0;34m.\u001b[0m\u001b[0mload\u001b[0m\u001b[0;34m(\u001b[0m\u001b[0minfile\u001b[0m\u001b[0;34m)\u001b[0m\u001b[0;34m\u001b[0m\u001b[0m\n\u001b[1;32m      3\u001b[0m \u001b[0;34m\u001b[0m\u001b[0m\n\u001b[1;32m      4\u001b[0m \u001b[0mdf_topic_sents_keywords\u001b[0m \u001b[0;34m=\u001b[0m \u001b[0mformat_topics_sentences\u001b[0m\u001b[0;34m(\u001b[0m\u001b[0moptimal_model\u001b[0m\u001b[0;34m,\u001b[0m \u001b[0mcorpus\u001b[0m\u001b[0;34m=\u001b[0m\u001b[0mcorpus\u001b[0m\u001b[0;34m,\u001b[0m \u001b[0mtexts\u001b[0m\u001b[0;34m=\u001b[0m\u001b[0mdata\u001b[0m\u001b[0;34m)\u001b[0m\u001b[0;34m\u001b[0m\u001b[0m\n\u001b[1;32m      5\u001b[0m \u001b[0;34m\u001b[0m\u001b[0m\n",
      "\u001b[0;31mFileNotFoundError\u001b[0m: [Errno 2] No such file or directory: 'resources/content.npy'"
     ]
    }
   ],
   "source": [
    "with open('resources/content.npy', 'rb') as infile:\n",
    "    data = np.load(infile)\n",
    "    \n",
    "df_topic_sents_keywords = format_topics_sentences(optimal_model, corpus=corpus, texts=data)\n",
    "\n",
    "# Format\n",
    "df_dominant_topic = df_topic_sents_keywords.reset_index()\n",
    "df_dominant_topic.columns = ['Document_No', 'Dominant_Topic', 'Topic_Perc_Contrib', 'Keywords', 'Text']\n",
    "\n",
    "# Show\n",
    "df_dominant_topic.head(10)"
   ]
  },
  {
   "cell_type": "code",
   "execution_count": null,
   "metadata": {},
   "outputs": [],
   "source": [
    "# Group top 5 sentences under each topic\n",
    "sent_topics_sorteddf_mallet = pd.DataFrame()\n",
    "\n",
    "sent_topics_outdf_grpd = df_topic_sents_keywords.groupby('Dominant_Topic')\n",
    "\n",
    "for i, grp in sent_topics_outdf_grpd:\n",
    "    sent_topics_sorteddf_mallet = pd.concat([sent_topics_sorteddf_mallet, \n",
    "                                             grp.sort_values(['Perc_Contribution'], ascending=[0]).head(1)], \n",
    "                                            axis=0)\n",
    "\n",
    "# Reset Index    \n",
    "sent_topics_sorteddf_mallet.reset_index(drop=True, inplace=True)\n",
    "\n",
    "# Format\n",
    "sent_topics_sorteddf_mallet.columns = ['Topic_Num', \"Topic_Perc_Contrib\", \"Keywords\", \"Text\"]\n",
    "\n",
    "# Show\n",
    "sent_topics_sorteddf_mallet.head()"
   ]
  },
  {
   "cell_type": "code",
   "execution_count": null,
   "metadata": {},
   "outputs": [],
   "source": [
    "# Number of Documents for Each Topic\n",
    "topic_counts = df_topic_sents_keywords['Dominant_Topic'].value_counts()\n",
    "\n",
    "# Percentage of Documents for Each Topic\n",
    "topic_contribution = round(topic_counts/topic_counts.sum(), 4)\n",
    "\n",
    "# Topic Number and Keywords\n",
    "topic_num_keywords = df_topic_sents_keywords[['Dominant_Topic', 'Topic_Keywords']]\n",
    "\n",
    "# Concatenate Column wise\n",
    "df_dominant_topics = pd.concat([topic_num_keywords, topic_counts, topic_contribution], axis=1)\n",
    "\n",
    "# Change Column names\n",
    "df_dominant_topics.columns = ['Dominant_Topic', 'Topic_Keywords', 'Num_Documents', 'Perc_Documents']\n",
    "\n",
    "# Show\n",
    "df_dominant_topics"
   ]
  },
  {
   "cell_type": "code",
   "execution_count": null,
   "metadata": {},
   "outputs": [],
   "source": [
    "# Visualize the topics\n",
    "def malletmodel2ldamodel(mallet_model, gamma_threshold=0.001, iterations=50):\n",
    "    \"\"\"\n",
    "    Function to convert mallet model to gensim LdaModel. This works by copying the\n",
    "    training model weights (alpha, beta...) from a trained mallet model into the\n",
    "    gensim model.\n",
    "\n",
    "    Args:\n",
    "    mallet_model : Trained mallet model\n",
    "    gamma_threshold : To be used for inference in the new LdaModel.\n",
    "    iterations : number of iterations to be used for inference in the new LdaModel.\n",
    "\n",
    "    Returns:\n",
    "    model_gensim : LdaModel instance; copied gensim LdaModel\n",
    "    \"\"\"\n",
    "    model_gensim = gensim.models.ldamodel.LdaModel(\n",
    "        id2word=mallet_model.id2word, num_topics=mallet_model.num_topics,\n",
    "        alpha=mallet_model.alpha, iterations=iterations,\n",
    "        eta=mallet_model.word_topics,\n",
    "        gamma_threshold=gamma_threshold,\n",
    "        dtype=np.float64 # don't loose precision when converting from MALLET\n",
    "    )\n",
    "    model_gensim.expElogbeta[:] = mallet_model.wordtopics\n",
    "    return model_gensim"
   ]
  },
  {
   "cell_type": "code",
   "execution_count": null,
   "metadata": {},
   "outputs": [],
   "source": [
    "lda_model2 = malletmodel2ldamodel(optimal_model)\n",
    "vis2 = pyLDAvis.gensim.prepare(lda_model2, corpus, id2word)\n",
    "vis2"
   ]
  }
 ],
 "metadata": {
  "kernelspec": {
   "display_name": "Python 3",
   "language": "python",
   "name": "python3"
  },
  "language_info": {
   "codemirror_mode": {
    "name": "ipython",
    "version": 3
   },
   "file_extension": ".py",
   "mimetype": "text/x-python",
   "name": "python",
   "nbconvert_exporter": "python",
   "pygments_lexer": "ipython3",
   "version": "3.7.0"
  }
 },
 "nbformat": 4,
 "nbformat_minor": 2
}
